{
 "cells": [
  {
   "cell_type": "code",
   "execution_count": null,
   "metadata": {},
   "outputs": [],
   "source": [
    "import ecospat.ecospat as ecospat_full\n",
    "from ecospat.stand_alone_functions import (\n",
    "    analyze_species_distribution,\n",
    "    extract_raster_means_single_species,\n",
    "    analyze_northward_shift,\n",
    "    process_species_historical_range,\n",
    "    calculate_rate_of_change_first_last,\n",
    "    merge_category_dataframes,\n",
    "    full_propagule_pressure_pipeline,\n",
    "    prepare_gdf_for_rasterization,\n",
    "    cat_int_mapping,\n",
    "    rasterize_multiband_gdf_match,\n",
    "    rasterize_multiband_gdf_world,\n",
    "    compute_propagule_pressure_range,\n",
    ")\n",
    "from ecospat.references_data import REFERENCES"
   ]
  },
  {
   "cell_type": "code",
   "execution_count": null,
   "metadata": {},
   "outputs": [],
   "source": [
    "map_modern = ecospat_full.Map()\n",
    "map_modern.add_control_panel()\n",
    "map_modern.add_basemap_gui()\n",
    "map_modern"
   ]
  },
  {
   "cell_type": "code",
   "execution_count": null,
   "metadata": {},
   "outputs": [],
   "source": [
    "map_new = ecospat_full.HistoricalMap()\n",
    "map_new.add_raster(\n",
    "    \"/Users/alivianytko/Downloads/Populus_angustifolia_persistence_raster.tif\",\n",
    "    colormap=\"viridis\",\n",
    ")\n",
    "map_new"
   ]
  },
  {
   "cell_type": "code",
   "execution_count": null,
   "metadata": {},
   "outputs": [],
   "source": [
    "from shapely.geometry import Polygon\n",
    "import geopandas as gpd\n",
    "\n",
    "# Example polygon — replace this with your actual geometry\n",
    "polygon = Polygon(\n",
    "    [\n",
    "        (-117.78973, 49.08967),\n",
    "        (-117.78238, 49.08856),\n",
    "        (-117.783, 49.084),\n",
    "        (-117.78973, 49.08967),\n",
    "    ]\n",
    ")\n",
    "\n",
    "# Create GeoDataFrame with WGS84 lat/lon CRS\n",
    "gdf = gpd.GeoDataFrame(geometry=[polygon], crs=\"EPSG:4326\")\n",
    "\n",
    "# Reproject to a projected CRS suitable for meters (UTM zone for this region: 11N or EPSG:32611)\n",
    "gdf_meters = gdf.to_crs(epsg=32611)\n",
    "\n",
    "# Measure the area in square meters\n",
    "area_m2 = gdf_meters.geometry.area.iloc[0]\n",
    "\n",
    "# Measure the bounds and diagonal length in meters\n",
    "bounds = gdf_meters.bounds.iloc[0]\n",
    "minx, miny, maxx, maxy = bounds\n",
    "diagonal = ((maxx - minx) ** 2 + (maxy - miny) ** 2) ** 0.5\n",
    "\n",
    "print(f\"Area: {area_m2:.2f} m²\")\n",
    "print(f\"Longest diagonal: {diagonal:.2f} meters\")"
   ]
  },
  {
   "cell_type": "code",
   "execution_count": null,
   "metadata": {},
   "outputs": [],
   "source": [
    "map_historic = ecospat_full.HistoricalMap()\n",
    "map_historic.add_control_panel()\n",
    "map_historic.add_basemap_gui()\n",
    "map_historic"
   ]
  },
  {
   "cell_type": "code",
   "execution_count": null,
   "metadata": {},
   "outputs": [],
   "source": [
    "map_pop = ecospat_full.HistoricalMap()\n",
    "map_pop.add_control_panel()\n",
    "map_pop.add_basemap_gui()\n",
    "map_pop"
   ]
  },
  {
   "cell_type": "code",
   "execution_count": null,
   "metadata": {},
   "outputs": [],
   "source": [
    "map_test = ecospat_full.HistoricalMap()\n",
    "map_test.load_historic_data(\"Populus angustifolia\")\n",
    "map_test"
   ]
  },
  {
   "cell_type": "code",
   "execution_count": null,
   "metadata": {},
   "outputs": [],
   "source": [
    "map = ecospat_full.Map()\n",
    "hist_range = process_species_historical_range(\n",
    "    new_map=map, species_name=\"Populus angustifolia\"\n",
    ")"
   ]
  },
  {
   "cell_type": "code",
   "execution_count": null,
   "metadata": {},
   "outputs": [],
   "source": [
    "classified_modern, classified_historic = analyze_species_distribution(\n",
    "    \"Populus angustifolia\", record_limit=2000\n",
    ")"
   ]
  },
  {
   "cell_type": "code",
   "execution_count": null,
   "metadata": {},
   "outputs": [],
   "source": [
    "northward_rate_df = analyze_northward_shift(\n",
    "    gdf_hist=hist_range,\n",
    "    gdf_new=classified_modern,\n",
    "    species_name=\"Populus angustifolia\",\n",
    ")\n",
    "northward_rate_df = northward_rate_df[\n",
    "    northward_rate_df[\"category\"].isin([\"leading\", \"core\", \"trailing\"])\n",
    "]\n",
    "\n",
    "northward_rate_df[\"category\"] = northward_rate_df[\"category\"].str.title()"
   ]
  },
  {
   "cell_type": "code",
   "execution_count": null,
   "metadata": {},
   "outputs": [],
   "source": [
    "print(northward_rate_df)"
   ]
  },
  {
   "cell_type": "code",
   "execution_count": null,
   "metadata": {},
   "outputs": [],
   "source": [
    "change = calculate_rate_of_change_first_last(\n",
    "    classified_historic, classified_modern, \"Populus angustifolia\", custom_end_year=2025\n",
    ")\n",
    "\n",
    "\n",
    "change = change[change[\"collapsed_category\"].isin([\"leading\", \"core\", \"trailing\"])]\n",
    "change = change.rename(\n",
    "    columns={\n",
    "        \"collapsed_category\": \"Category\",\n",
    "        \"rate_of_change_first_last\": \"Rate of Change\",\n",
    "        \"start_time_period\": \"Start Years\",\n",
    "        \"end_time_period\": \"End Years\",\n",
    "    }\n",
    ")\n",
    "\n",
    "# Convert 'Category' column to title case\n",
    "change[\"Category\"] = change[\"Category\"].str.title()"
   ]
  },
  {
   "cell_type": "code",
   "execution_count": null,
   "metadata": {},
   "outputs": [],
   "source": [
    "full_show, full_save, show_bounds, save_bounds = full_propagule_pressure_pipeline(\n",
    "    classified_modern, northward_rate_df, change\n",
    ")"
   ]
  },
  {
   "cell_type": "code",
   "execution_count": null,
   "metadata": {},
   "outputs": [],
   "source": [
    "map_new = ecospat_full.HistoricalMap()\n",
    "map_new.add_raster(\n",
    "    \"/Users/alivianytko/Downloads/Populus_angustifolia_persistence_raster.tif\",\n",
    "    colormap=\"viridis\",\n",
    "    legend=True,\n",
    ")\n",
    "map_new"
   ]
  },
  {
   "cell_type": "code",
   "execution_count": null,
   "metadata": {},
   "outputs": [],
   "source": [
    "import matplotlib.pyplot as plt\n",
    "\n",
    "plt.imshow(\n",
    "    full_show, cmap=\"viridis\", origin=\"upper\"\n",
    ")  # Choose a colormap ('viridis' is a popular choice)\n",
    "plt.colorbar(label=\"Pressure\")  # Add colorbar with label\n",
    "plt.title(\"Propagule Pressure Map\")  # Add a title\n",
    "plt.xlabel(\"Longitude\")  # Optional: Add x-axis label\n",
    "plt.ylabel(\"Latitude\")  # Optional: Add y-axis label\n",
    "plt.show()"
   ]
  },
  {
   "cell_type": "code",
   "execution_count": null,
   "metadata": {},
   "outputs": [],
   "source": [
    "def rasterize_multiband_gdf(gdf, value_columns, out_shape=(50, 50), bounds=None):\n",
    "    \"\"\"\n",
    "    Rasterizes multiple value columns of a GeoDataFrame into a multiband raster.\n",
    "\n",
    "    Parameters:\n",
    "    - gdf: GeoDataFrame with polygon geometries and numeric value_columns\n",
    "    - value_columns: list of column names to rasterize into bands\n",
    "    - out_shape: shape of the raster (height, width)\n",
    "    - bounds: bounding box (minx, miny, maxx, maxy). If None, computed from gdf.\n",
    "\n",
    "    Returns:\n",
    "    - 3D numpy array (bands, height, width)\n",
    "    - affine transform\n",
    "    \"\"\"\n",
    "    import numpy as np\n",
    "    import rasterio\n",
    "    from rasterio.features import rasterize\n",
    "    from rasterio.transform import from_bounds\n",
    "\n",
    "    # Calculate bounds if not given\n",
    "    if bounds is None:\n",
    "        bounds = gdf.total_bounds  # (minx, miny, maxx, maxy)\n",
    "\n",
    "    minx, miny, maxx, maxy = bounds\n",
    "    height, width = out_shape\n",
    "    transform = from_bounds(minx, miny, maxx, maxy, width, height)\n",
    "\n",
    "    bands = []\n",
    "\n",
    "    for col in value_columns:\n",
    "        shapes = [(geom, value) for geom, value in zip(gdf.geometry, gdf[col])]\n",
    "        raster = rasterize(\n",
    "            shapes,\n",
    "            out_shape=out_shape,\n",
    "            transform=transform,\n",
    "            fill=np.nan,\n",
    "            dtype=\"float32\",\n",
    "        )\n",
    "        bands.append(raster)\n",
    "\n",
    "    stacked = np.stack(bands, axis=0)  # shape: (bands, height, width)\n",
    "    return stacked, transform, bounds"
   ]
  }
 ],
 "metadata": {
  "kernelspec": {
   "display_name": "biodiviz",
   "language": "python",
   "name": "python3"
  },
  "language_info": {
   "codemirror_mode": {
    "name": "ipython",
    "version": 3
   },
   "file_extension": ".py",
   "mimetype": "text/x-python",
   "name": "python",
   "nbconvert_exporter": "python",
   "pygments_lexer": "ipython3",
   "version": "3.12.9"
  }
 },
 "nbformat": 4,
 "nbformat_minor": 2
}
